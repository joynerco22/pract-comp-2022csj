{
  "nbformat": 4,
  "nbformat_minor": 0,
  "metadata": {
    "colab": {
      "provenance": [],
      "authorship_tag": "ABX9TyPkDIGN+oVPox5rpaVeGiZY",
      "include_colab_link": true
    },
    "kernelspec": {
      "name": "python3",
      "display_name": "Python 3"
    },
    "language_info": {
      "name": "python"
    }
  },
  "cells": [
    {
      "cell_type": "markdown",
      "metadata": {
        "id": "view-in-github",
        "colab_type": "text"
      },
      "source": [
        "<a href=\"https://colab.research.google.com/github/joynerco22/pract-comp-2022csj/blob/master/PracComp2022.ipynb\" target=\"_parent\"><img src=\"https://colab.research.google.com/assets/colab-badge.svg\" alt=\"Open In Colab\"/></a>"
      ]
    },
    {
      "cell_type": "markdown",
      "source": [
        "# Basics"
      ],
      "metadata": {
        "id": "Ez_y8Fg17zRy"
      }
    },
    {
      "cell_type": "markdown",
      "source": [
        "## Markdown Carry over"
      ],
      "metadata": {
        "id": "-ga--c3F75JQ"
      }
    },
    {
      "cell_type": "markdown",
      "source": [
        "* Use asterisks \n",
        "* to create\n",
        "* unordered lists. \n",
        "1. Use numbers\n",
        "2. to create\n",
        "3. ordered lists \n",
        "\n",
        "*Top level\n",
        "  * indent one\n",
        "  * indent two\n",
        "     * subindent one\n",
        "     *subindent two \n",
        "\n",
        "Line\n",
        "breaks\n",
        "don't\n",
        "matter\n",
        "\n",
        "\n",
        "But _blank lines_ create new paragraphs.\n",
        "[Brewer Lab](https://brewerlab.net)\n"
      ],
      "metadata": {
        "id": "s5zkSKzg7_xm"
      }
    },
    {
      "cell_type": "markdown",
      "source": [
        "# Python Basics "
      ],
      "metadata": {
        "id": "72vEXPvl87-l"
      }
    },
    {
      "cell_type": "markdown",
      "source": [
        "## Variables \n"
      ],
      "metadata": {
        "id": "Ce9rY9Fy9An4"
      }
    },
    {
      "cell_type": "code",
      "source": [
        "myage = 39\n",
        "given_name = \"Cory\"\n",
        "family_name = \"Joyner\"\n",
        "print(given_name,\"is\",myage, \"years old\")"
      ],
      "metadata": {
        "colab": {
          "base_uri": "https://localhost:8080/"
        },
        "id": "d8j8MPqP9Cog",
        "outputId": "e5f680a8-9531-453d-d7cf-0ba618b01949"
      },
      "execution_count": 3,
      "outputs": [
        {
          "output_type": "stream",
          "name": "stdout",
          "text": [
            "Cory is 39 years old\n"
          ]
        }
      ]
    },
    {
      "cell_type": "code",
      "source": [
        "type(myage)\n",
        "type(given_name)\n",
        "print(type(myage))\n"
      ],
      "metadata": {
        "colab": {
          "base_uri": "https://localhost:8080/"
        },
        "id": "JY_Vxn7--gUe",
        "outputId": "ee6b40f6-dc27-44bf-a99f-350d2bb3818d"
      },
      "execution_count": 5,
      "outputs": [
        {
          "output_type": "stream",
          "name": "stdout",
          "text": [
            "<class 'int'>\n"
          ]
        }
      ]
    },
    {
      "cell_type": "code",
      "source": [
        "myage_str= str(myage)"
      ],
      "metadata": {
        "id": "_rwYMNfW_LwW"
      },
      "execution_count": 6,
      "outputs": []
    },
    {
      "cell_type": "code",
      "source": [
        "print(myage+1)"
      ],
      "metadata": {
        "colab": {
          "base_uri": "https://localhost:8080/"
        },
        "id": "gKciWYF3_aSX",
        "outputId": "9d05dc67-5a80-4e5c-a9a7-85459f42fe1c"
      },
      "execution_count": 8,
      "outputs": [
        {
          "output_type": "stream",
          "name": "stdout",
          "text": [
            "40\n"
          ]
        }
      ]
    },
    {
      "cell_type": "code",
      "source": [
        "type(myage_str)"
      ],
      "metadata": {
        "colab": {
          "base_uri": "https://localhost:8080/"
        },
        "id": "pVOUW_0V_WLo",
        "outputId": "e3becbf7-d608-4e25-acab-460bbcf29166"
      },
      "execution_count": 7,
      "outputs": [
        {
          "output_type": "execute_result",
          "data": {
            "text/plain": [
              "str"
            ]
          },
          "metadata": {},
          "execution_count": 7
        }
      ]
    },
    {
      "cell_type": "code",
      "source": [],
      "metadata": {
        "id": "_j7FSO7H_iqi"
      },
      "execution_count": null,
      "outputs": []
    },
    {
      "cell_type": "code",
      "source": [],
      "metadata": {
        "id": "F3aJkRomAC_9"
      },
      "execution_count": null,
      "outputs": []
    },
    {
      "cell_type": "markdown",
      "source": [
        "### Indexing\n",
        "\n",
        "**_Python starts counting at zero_**\n"
      ],
      "metadata": {
        "id": "XpD6f3Oq__wZ"
      }
    },
    {
      "cell_type": "code",
      "source": [
        "given_name[1]"
      ],
      "metadata": {
        "colab": {
          "base_uri": "https://localhost:8080/",
          "height": 36
        },
        "id": "W2UX_7ICASyL",
        "outputId": "f1d2b192-f4f2-47f6-9179-ae411821e7ec"
      },
      "execution_count": 9,
      "outputs": [
        {
          "output_type": "execute_result",
          "data": {
            "text/plain": [
              "'o'"
            ],
            "application/vnd.google.colaboratory.intrinsic+json": {
              "type": "string"
            }
          },
          "metadata": {},
          "execution_count": 9
        }
      ]
    },
    {
      "cell_type": "code",
      "source": [
        "given_name[0:4]"
      ],
      "metadata": {
        "colab": {
          "base_uri": "https://localhost:8080/",
          "height": 36
        },
        "id": "0xH7FxE_Ai82",
        "outputId": "684d46de-73a9-46e0-ffbb-f328cfbd2a10"
      },
      "execution_count": 11,
      "outputs": [
        {
          "output_type": "execute_result",
          "data": {
            "text/plain": [
              "'Cory'"
            ],
            "application/vnd.google.colaboratory.intrinsic+json": {
              "type": "string"
            }
          },
          "metadata": {},
          "execution_count": 11
        }
      ]
    },
    {
      "cell_type": "code",
      "source": [
        "given_name[2:4]"
      ],
      "metadata": {
        "colab": {
          "base_uri": "https://localhost:8080/",
          "height": 36
        },
        "id": "H8X2wxD8Aczh",
        "outputId": "2c63b323-5ac7-4839-ad04-2f428499a834"
      },
      "execution_count": 10,
      "outputs": [
        {
          "output_type": "execute_result",
          "data": {
            "text/plain": [
              "'ry'"
            ],
            "application/vnd.google.colaboratory.intrinsic+json": {
              "type": "string"
            }
          },
          "metadata": {},
          "execution_count": 10
        }
      ]
    },
    {
      "cell_type": "code",
      "source": [
        "given_name[2:]"
      ],
      "metadata": {
        "colab": {
          "base_uri": "https://localhost:8080/",
          "height": 36
        },
        "id": "Aai8oObTAmrO",
        "outputId": "5b270b4c-0259-4c4e-fde8-47c4e37c2058"
      },
      "execution_count": 12,
      "outputs": [
        {
          "output_type": "execute_result",
          "data": {
            "text/plain": [
              "'ry'"
            ],
            "application/vnd.google.colaboratory.intrinsic+json": {
              "type": "string"
            }
          },
          "metadata": {},
          "execution_count": 12
        }
      ]
    },
    {
      "cell_type": "code",
      "source": [
        "len(given_name)"
      ],
      "metadata": {
        "colab": {
          "base_uri": "https://localhost:8080/"
        },
        "id": "7lhh4-f5A5ar",
        "outputId": "e355b2c0-4bd2-4765-fa36-405c7ec7d08c"
      },
      "execution_count": 13,
      "outputs": [
        {
          "output_type": "execute_result",
          "data": {
            "text/plain": [
              "4"
            ]
          },
          "metadata": {},
          "execution_count": 13
        }
      ]
    },
    {
      "cell_type": "markdown",
      "source": [
        "### Math Integers vs floats"
      ],
      "metadata": {
        "id": "N5_SLp8dBGmp"
      }
    },
    {
      "cell_type": "code",
      "source": [
        "myage/4"
      ],
      "metadata": {
        "colab": {
          "base_uri": "https://localhost:8080/"
        },
        "id": "NvRMfSb8BOW5",
        "outputId": "ea3abd7a-61af-47f5-badb-ff355de9b345"
      },
      "execution_count": 14,
      "outputs": [
        {
          "output_type": "execute_result",
          "data": {
            "text/plain": [
              "9.75"
            ]
          },
          "metadata": {},
          "execution_count": 14
        }
      ]
    },
    {
      "cell_type": "code",
      "source": [
        "type(myage/4)"
      ],
      "metadata": {
        "colab": {
          "base_uri": "https://localhost:8080/"
        },
        "id": "fhGfpTyMBTyA",
        "outputId": "3de36a28-d758-4511-e82e-824f70279d2e"
      },
      "execution_count": 15,
      "outputs": [
        {
          "output_type": "execute_result",
          "data": {
            "text/plain": [
              "float"
            ]
          },
          "metadata": {},
          "execution_count": 15
        }
      ]
    },
    {
      "cell_type": "code",
      "source": [
        "float(myage)"
      ],
      "metadata": {
        "colab": {
          "base_uri": "https://localhost:8080/"
        },
        "id": "anTI5C-WBYTP",
        "outputId": "94862b85-7285-4a3d-def6-c7a1aee4c400"
      },
      "execution_count": 16,
      "outputs": [
        {
          "output_type": "execute_result",
          "data": {
            "text/plain": [
              "39.0"
            ]
          },
          "metadata": {},
          "execution_count": 16
        }
      ]
    },
    {
      "cell_type": "code",
      "source": [
        "myage + float(myage)"
      ],
      "metadata": {
        "colab": {
          "base_uri": "https://localhost:8080/"
        },
        "id": "2ex7DWLCBmPD",
        "outputId": "93432c0b-9cf1-4504-e8d2-b04262f71392"
      },
      "execution_count": 17,
      "outputs": [
        {
          "output_type": "execute_result",
          "data": {
            "text/plain": [
              "78.0"
            ]
          },
          "metadata": {},
          "execution_count": 17
        }
      ]
    },
    {
      "cell_type": "markdown",
      "source": [
        "###BASICS: Wrap up"
      ],
      "metadata": {
        "id": "AaOVh1p5Bzk-"
      }
    },
    {
      "cell_type": "code",
      "source": [
        "full_name_age = given_name + 'Scott' + family_name + 'is my full name, and I am ' +str(myage) + 'years old'\n",
        "\n",
        "print(full_name_age)\n"
      ],
      "metadata": {
        "colab": {
          "base_uri": "https://localhost:8080/"
        },
        "id": "frSFyo73B2HT",
        "outputId": "d712771f-e549-41ea-88db-2e06490c542c"
      },
      "execution_count": 22,
      "outputs": [
        {
          "output_type": "stream",
          "name": "stdout",
          "text": [
            "CoryScottJoyneris my full name, and I am 39years old\n"
          ]
        }
      ]
    },
    {
      "cell_type": "markdown",
      "source": [
        "## Math in Python "
      ],
      "metadata": {
        "id": "UrrDrTIeDvLS"
      }
    },
    {
      "cell_type": "code",
      "source": [
        "6/2"
      ],
      "metadata": {
        "colab": {
          "base_uri": "https://localhost:8080/"
        },
        "id": "6HXRrqd-Dx7s",
        "outputId": "4070d025-1d96-44e1-9a28-41c734eceebe"
      },
      "execution_count": 23,
      "outputs": [
        {
          "output_type": "execute_result",
          "data": {
            "text/plain": [
              "3.0"
            ]
          },
          "metadata": {},
          "execution_count": 23
        }
      ]
    },
    {
      "cell_type": "code",
      "source": [
        "5/2"
      ],
      "metadata": {
        "colab": {
          "base_uri": "https://localhost:8080/"
        },
        "id": "Yww7Q7j0D0hN",
        "outputId": "19af4c0a-147b-4608-b45f-7d5b462defd6"
      },
      "execution_count": 24,
      "outputs": [
        {
          "output_type": "execute_result",
          "data": {
            "text/plain": [
              "2.5"
            ]
          },
          "metadata": {},
          "execution_count": 24
        }
      ]
    },
    {
      "cell_type": "code",
      "source": [
        "5//2 #What is this It rounds floats to integers following division."
      ],
      "metadata": {
        "colab": {
          "base_uri": "https://localhost:8080/"
        },
        "id": "CG3i0L-iD2SQ",
        "outputId": "98011788-85a5-44f4-8a9b-a9515194e561"
      },
      "execution_count": 25,
      "outputs": [
        {
          "output_type": "execute_result",
          "data": {
            "text/plain": [
              "2"
            ]
          },
          "metadata": {},
          "execution_count": 25
        }
      ]
    },
    {
      "cell_type": "code",
      "source": [
        "print(type(5//2),type(5/2))"
      ],
      "metadata": {
        "colab": {
          "base_uri": "https://localhost:8080/"
        },
        "id": "NG9FX-n0EFbo",
        "outputId": "eb197173-e55f-407b-d3a3-d75d218888ed"
      },
      "execution_count": 27,
      "outputs": [
        {
          "output_type": "stream",
          "name": "stdout",
          "text": [
            "<class 'int'> <class 'float'>\n"
          ]
        }
      ]
    },
    {
      "cell_type": "code",
      "source": [
        "1+1"
      ],
      "metadata": {
        "colab": {
          "base_uri": "https://localhost:8080/"
        },
        "id": "3ce-GpWTEyYR",
        "outputId": "9df3f1ae-aed8-468b-d3b0-fa8ec3adaefe"
      },
      "execution_count": 29,
      "outputs": [
        {
          "output_type": "execute_result",
          "data": {
            "text/plain": [
              "2"
            ]
          },
          "metadata": {},
          "execution_count": 29
        }
      ]
    },
    {
      "cell_type": "code",
      "source": [
        "2*6"
      ],
      "metadata": {
        "colab": {
          "base_uri": "https://localhost:8080/"
        },
        "id": "_XZIjtyIEwa6",
        "outputId": "7fe0f7e6-98c8-4482-8408-4d4cd3471894"
      },
      "execution_count": 28,
      "outputs": [
        {
          "output_type": "execute_result",
          "data": {
            "text/plain": [
              "12"
            ]
          },
          "metadata": {},
          "execution_count": 28
        }
      ]
    },
    {
      "cell_type": "code",
      "source": [
        "5-2"
      ],
      "metadata": {
        "colab": {
          "base_uri": "https://localhost:8080/"
        },
        "id": "LyAWvvXOEzip",
        "outputId": "8466f507-f759-4572-ba0b-bc24b56fc970"
      },
      "execution_count": 30,
      "outputs": [
        {
          "output_type": "execute_result",
          "data": {
            "text/plain": [
              "3"
            ]
          },
          "metadata": {},
          "execution_count": 30
        }
      ]
    },
    {
      "cell_type": "code",
      "source": [
        "## Built in Summary Tools \n"
      ],
      "metadata": {
        "id": "cAhba-7YE32s"
      },
      "execution_count": null,
      "outputs": []
    },
    {
      "cell_type": "code",
      "source": [
        "nums = (1,2,3,4,5)\n",
        "\n",
        "type(nums)"
      ],
      "metadata": {
        "colab": {
          "base_uri": "https://localhost:8080/"
        },
        "id": "sR9dzj9mFApo",
        "outputId": "fcb17616-96a8-4a07-b732-7e076b3769c2"
      },
      "execution_count": 31,
      "outputs": [
        {
          "output_type": "execute_result",
          "data": {
            "text/plain": [
              "tuple"
            ]
          },
          "metadata": {},
          "execution_count": 31
        }
      ]
    },
    {
      "cell_type": "code",
      "source": [
        "max(nums)"
      ],
      "metadata": {
        "colab": {
          "base_uri": "https://localhost:8080/"
        },
        "id": "bb2qZVUNFHWr",
        "outputId": "049bc559-6bfc-409f-c62c-9596cfd44551"
      },
      "execution_count": 32,
      "outputs": [
        {
          "output_type": "execute_result",
          "data": {
            "text/plain": [
              "5"
            ]
          },
          "metadata": {},
          "execution_count": 32
        }
      ]
    },
    {
      "cell_type": "code",
      "source": [
        "round(2.55, ndigits=0)"
      ],
      "metadata": {
        "colab": {
          "base_uri": "https://localhost:8080/"
        },
        "id": "5brWp-_4FJO6",
        "outputId": "c05b9995-8cd1-4081-9ff0-2de3f24de809"
      },
      "execution_count": 33,
      "outputs": [
        {
          "output_type": "execute_result",
          "data": {
            "text/plain": [
              "3.0"
            ]
          },
          "metadata": {},
          "execution_count": 33
        }
      ]
    }
  ]
}